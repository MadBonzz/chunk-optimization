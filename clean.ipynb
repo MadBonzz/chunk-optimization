{
 "cells": [
  {
   "cell_type": "code",
   "execution_count": 16,
   "id": "bc5d8003",
   "metadata": {},
   "outputs": [],
   "source": [
    "import pandas as pd\n",
    "from tqdm import tqdm\n",
    "import numpy as np"
   ]
  },
  {
   "cell_type": "code",
   "execution_count": 6,
   "id": "f480ba39",
   "metadata": {},
   "outputs": [
    {
     "data": {
      "text/html": [
       "<div>\n",
       "<style scoped>\n",
       "    .dataframe tbody tr th:only-of-type {\n",
       "        vertical-align: middle;\n",
       "    }\n",
       "\n",
       "    .dataframe tbody tr th {\n",
       "        vertical-align: top;\n",
       "    }\n",
       "\n",
       "    .dataframe thead th {\n",
       "        text-align: right;\n",
       "    }\n",
       "</style>\n",
       "<table border=\"1\" class=\"dataframe\">\n",
       "  <thead>\n",
       "    <tr style=\"text-align: right;\">\n",
       "      <th></th>\n",
       "      <th>Unnamed: 0</th>\n",
       "      <th>size</th>\n",
       "      <th>document</th>\n",
       "      <th>splitter</th>\n",
       "      <th>score</th>\n",
       "      <th>chunk</th>\n",
       "      <th>question</th>\n",
       "      <th>relevance_rating</th>\n",
       "      <th>groundness_rating</th>\n",
       "      <th>standalone_rating</th>\n",
       "      <th>limit</th>\n",
       "      <th>collection</th>\n",
       "      <th>context</th>\n",
       "      <th>ctx_length</th>\n",
       "      <th>answer</th>\n",
       "      <th>model</th>\n",
       "    </tr>\n",
       "  </thead>\n",
       "  <tbody>\n",
       "    <tr>\n",
       "      <th>0</th>\n",
       "      <td>0</td>\n",
       "      <td>1000</td>\n",
       "      <td>insurance_act</td>\n",
       "      <td>char</td>\n",
       "      <td>0.8</td>\n",
       "      <td>the Special Economic Zones Act, 2005 (28 of 20...</td>\n",
       "      <td>What legal consequences (penalties) exist for ...</td>\n",
       "      <td>5</td>\n",
       "      <td>5</td>\n",
       "      <td>5</td>\n",
       "      <td>3</td>\n",
       "      <td>semantic</td>\n",
       "      <td>['26-12-2014). 40B. Limitation of expenses of ...</td>\n",
       "      <td>23940</td>\n",
       "      <td>Individuals or entities who violate the provis...</td>\n",
       "      <td>meta-llama-3.1-8b-instruct</td>\n",
       "    </tr>\n",
       "    <tr>\n",
       "      <th>1</th>\n",
       "      <td>1</td>\n",
       "      <td>1000</td>\n",
       "      <td>insurance_act</td>\n",
       "      <td>char</td>\n",
       "      <td>0.8</td>\n",
       "      <td>the Special Economic Zones Act, 2005 (28 of 20...</td>\n",
       "      <td>What legal consequences (penalties) exist for ...</td>\n",
       "      <td>5</td>\n",
       "      <td>5</td>\n",
       "      <td>5</td>\n",
       "      <td>3</td>\n",
       "      <td>char</td>\n",
       "      <td>['domiciled outside India or any insurer as de...</td>\n",
       "      <td>5844</td>\n",
       "      <td>Individuals or entities who violate the provis...</td>\n",
       "      <td>meta-llama-3.1-8b-instruct</td>\n",
       "    </tr>\n",
       "    <tr>\n",
       "      <th>2</th>\n",
       "      <td>2</td>\n",
       "      <td>1000</td>\n",
       "      <td>insurance_act</td>\n",
       "      <td>char</td>\n",
       "      <td>0.8</td>\n",
       "      <td>the Special Economic Zones Act, 2005 (28 of 20...</td>\n",
       "      <td>What legal consequences (penalties) exist for ...</td>\n",
       "      <td>5</td>\n",
       "      <td>5</td>\n",
       "      <td>5</td>\n",
       "      <td>3</td>\n",
       "      <td>token</td>\n",
       "      <td>['thereof shall, in all legal proceedings (whe...</td>\n",
       "      <td>27040</td>\n",
       "      <td>Individuals or entities who violate the provis...</td>\n",
       "      <td>meta-llama-3.1-8b-instruct</td>\n",
       "    </tr>\n",
       "    <tr>\n",
       "      <th>3</th>\n",
       "      <td>3</td>\n",
       "      <td>1000</td>\n",
       "      <td>insurance_act</td>\n",
       "      <td>char</td>\n",
       "      <td>0.8</td>\n",
       "      <td>the Special Economic Zones Act, 2005 (28 of 20...</td>\n",
       "      <td>What legal consequences (penalties) exist for ...</td>\n",
       "      <td>5</td>\n",
       "      <td>5</td>\n",
       "      <td>5</td>\n",
       "      <td>3</td>\n",
       "      <td>recursive</td>\n",
       "      <td>['(i) “policy” means a policy issued or renewe...</td>\n",
       "      <td>26431</td>\n",
       "      <td>According to the context, individuals or entit...</td>\n",
       "      <td>meta-llama-3.1-8b-instruct</td>\n",
       "    </tr>\n",
       "    <tr>\n",
       "      <th>4</th>\n",
       "      <td>4</td>\n",
       "      <td>1000</td>\n",
       "      <td>insurance_act</td>\n",
       "      <td>char</td>\n",
       "      <td>0.8</td>\n",
       "      <td>the Special Economic Zones Act, 2005 (28 of 20...</td>\n",
       "      <td>What legal consequences (penalties) exist for ...</td>\n",
       "      <td>5</td>\n",
       "      <td>5</td>\n",
       "      <td>5</td>\n",
       "      <td>3</td>\n",
       "      <td>semantic</td>\n",
       "      <td>['26-12-2014). 40B. Limitation of expenses of ...</td>\n",
       "      <td>23940</td>\n",
       "      <td>Individuals or entities violating provisions o...</td>\n",
       "      <td>meta-llama-3.1-8b-instruct</td>\n",
       "    </tr>\n",
       "  </tbody>\n",
       "</table>\n",
       "</div>"
      ],
      "text/plain": [
       "   Unnamed: 0  size       document splitter score  \\\n",
       "0           0  1000  insurance_act     char   0.8   \n",
       "1           1  1000  insurance_act     char   0.8   \n",
       "2           2  1000  insurance_act     char   0.8   \n",
       "3           3  1000  insurance_act     char   0.8   \n",
       "4           4  1000  insurance_act     char   0.8   \n",
       "\n",
       "                                               chunk  \\\n",
       "0  the Special Economic Zones Act, 2005 (28 of 20...   \n",
       "1  the Special Economic Zones Act, 2005 (28 of 20...   \n",
       "2  the Special Economic Zones Act, 2005 (28 of 20...   \n",
       "3  the Special Economic Zones Act, 2005 (28 of 20...   \n",
       "4  the Special Economic Zones Act, 2005 (28 of 20...   \n",
       "\n",
       "                                            question  relevance_rating  \\\n",
       "0  What legal consequences (penalties) exist for ...                 5   \n",
       "1  What legal consequences (penalties) exist for ...                 5   \n",
       "2  What legal consequences (penalties) exist for ...                 5   \n",
       "3  What legal consequences (penalties) exist for ...                 5   \n",
       "4  What legal consequences (penalties) exist for ...                 5   \n",
       "\n",
       "   groundness_rating  standalone_rating limit collection  \\\n",
       "0                  5                  5     3   semantic   \n",
       "1                  5                  5     3       char   \n",
       "2                  5                  5     3      token   \n",
       "3                  5                  5     3  recursive   \n",
       "4                  5                  5     3   semantic   \n",
       "\n",
       "                                             context ctx_length  \\\n",
       "0  ['26-12-2014). 40B. Limitation of expenses of ...      23940   \n",
       "1  ['domiciled outside India or any insurer as de...       5844   \n",
       "2  ['thereof shall, in all legal proceedings (whe...      27040   \n",
       "3  ['(i) “policy” means a policy issued or renewe...      26431   \n",
       "4  ['26-12-2014). 40B. Limitation of expenses of ...      23940   \n",
       "\n",
       "                                              answer  \\\n",
       "0  Individuals or entities who violate the provis...   \n",
       "1  Individuals or entities who violate the provis...   \n",
       "2  Individuals or entities who violate the provis...   \n",
       "3  According to the context, individuals or entit...   \n",
       "4  Individuals or entities violating provisions o...   \n",
       "\n",
       "                        model  \n",
       "0  meta-llama-3.1-8b-instruct  \n",
       "1  meta-llama-3.1-8b-instruct  \n",
       "2  meta-llama-3.1-8b-instruct  \n",
       "3  meta-llama-3.1-8b-instruct  \n",
       "4  meta-llama-3.1-8b-instruct  "
      ]
     },
     "execution_count": 6,
     "metadata": {},
     "output_type": "execute_result"
    }
   ],
   "source": [
    "df = pd.read_csv('generations.csv')\n",
    "df.head()"
   ]
  },
  {
   "cell_type": "code",
   "execution_count": 9,
   "id": "4157dc61",
   "metadata": {},
   "outputs": [
    {
     "data": {
      "text/plain": [
       "array(['1000', '2000', '3000', 'insurance_act', 'policyholder',\n",
       "       'handbook'], dtype=object)"
      ]
     },
     "execution_count": 9,
     "metadata": {},
     "output_type": "execute_result"
    }
   ],
   "source": [
    "df['size'].unique()"
   ]
  },
  {
   "cell_type": "code",
   "execution_count": 12,
   "id": "4792117e",
   "metadata": {},
   "outputs": [
    {
     "name": "stderr",
     "output_type": "stream",
     "text": [
      "3566it [00:02, 1209.67it/s]\n"
     ]
    }
   ],
   "source": [
    "formatted_df = pd.DataFrame(columns=df.columns)\n",
    "unformmated_df = pd.DataFrame(columns=df.columns)\n",
    "\n",
    "for idx, row in tqdm(df.iterrows()):\n",
    "    if row['size'].isnumeric():\n",
    "        formatted_df.loc[len(formatted_df)] = row\n",
    "    else:\n",
    "        unformmated_df.loc[len(unformmated_df)] = row"
   ]
  },
  {
   "cell_type": "code",
   "execution_count": 17,
   "id": "143184f0",
   "metadata": {},
   "outputs": [],
   "source": [
    "shifted_array = np.empty_like(unformmated_df.values, dtype=object)\n",
    "shifted_array[:, 0] = np.nan\n",
    "shifted_array[:, 1:] = unformmated_df.values[:, :-1]\n",
    "shifted_df = pd.DataFrame(shifted_array, columns=df.columns)"
   ]
  },
  {
   "cell_type": "code",
   "execution_count": 22,
   "id": "8f1fbce2",
   "metadata": {},
   "outputs": [
    {
     "data": {
      "text/html": [
       "<div>\n",
       "<style scoped>\n",
       "    .dataframe tbody tr th:only-of-type {\n",
       "        vertical-align: middle;\n",
       "    }\n",
       "\n",
       "    .dataframe tbody tr th {\n",
       "        vertical-align: top;\n",
       "    }\n",
       "\n",
       "    .dataframe thead th {\n",
       "        text-align: right;\n",
       "    }\n",
       "</style>\n",
       "<table border=\"1\" class=\"dataframe\">\n",
       "  <thead>\n",
       "    <tr style=\"text-align: right;\">\n",
       "      <th></th>\n",
       "      <th>Unnamed: 0</th>\n",
       "      <th>size</th>\n",
       "      <th>document</th>\n",
       "      <th>splitter</th>\n",
       "      <th>score</th>\n",
       "      <th>chunk</th>\n",
       "      <th>question</th>\n",
       "      <th>relevance_rating</th>\n",
       "      <th>groundness_rating</th>\n",
       "      <th>standalone_rating</th>\n",
       "      <th>limit</th>\n",
       "      <th>collection</th>\n",
       "      <th>context</th>\n",
       "      <th>ctx_length</th>\n",
       "      <th>answer</th>\n",
       "      <th>model</th>\n",
       "    </tr>\n",
       "  </thead>\n",
       "  <tbody>\n",
       "    <tr>\n",
       "      <th>3471</th>\n",
       "      <td>3480</td>\n",
       "      <td>3000</td>\n",
       "      <td>handbook</td>\n",
       "      <td>char</td>\n",
       "      <td>0.85</td>\n",
       "      <td>stocks with the general aim of \\ncapital appre...</td>\n",
       "      <td>What specific types of fixed income instrument...</td>\n",
       "      <td>5</td>\n",
       "      <td>5</td>\n",
       "      <td>5</td>\n",
       "      <td>3</td>\n",
       "      <td>optimized-recursive</td>\n",
       "      <td>['roved securities” means—\\n(i) Government sec...</td>\n",
       "      <td>4152</td>\n",
       "      <td>('The types of fixed income instruments invest...</td>\n",
       "      <td>meta-llama-3.1-8b-instruct</td>\n",
       "    </tr>\n",
       "    <tr>\n",
       "      <th>3472</th>\n",
       "      <td>3481</td>\n",
       "      <td>3000</td>\n",
       "      <td>handbook</td>\n",
       "      <td>char</td>\n",
       "      <td>0.85</td>\n",
       "      <td>stocks with the general aim of \\ncapital appre...</td>\n",
       "      <td>What specific types of fixed income instrument...</td>\n",
       "      <td>5</td>\n",
       "      <td>5</td>\n",
       "      <td>5</td>\n",
       "      <td>5</td>\n",
       "      <td>semantic</td>\n",
       "      <td>['Surrender value is usually expressed as fund...</td>\n",
       "      <td>29460</td>\n",
       "      <td>('In Unit Linked Policies, the types of fixed ...</td>\n",
       "      <td>meta-llama-3.1-8b-instruct</td>\n",
       "    </tr>\n",
       "    <tr>\n",
       "      <th>3473</th>\n",
       "      <td>3482</td>\n",
       "      <td>3000</td>\n",
       "      <td>handbook</td>\n",
       "      <td>char</td>\n",
       "      <td>0.85</td>\n",
       "      <td>stocks with the general aim of \\ncapital appre...</td>\n",
       "      <td>What specific types of fixed income instrument...</td>\n",
       "      <td>5</td>\n",
       "      <td>5</td>\n",
       "      <td>5</td>\n",
       "      <td>5</td>\n",
       "      <td>char</td>\n",
       "      <td>['life insurance or any other class or sub-cla...</td>\n",
       "      <td>9804</td>\n",
       "      <td>('Based on the context provided, Unit Linked P...</td>\n",
       "      <td>meta-llama-3.1-8b-instruct</td>\n",
       "    </tr>\n",
       "    <tr>\n",
       "      <th>3474</th>\n",
       "      <td>3483</td>\n",
       "      <td>3000</td>\n",
       "      <td>handbook</td>\n",
       "      <td>char</td>\n",
       "      <td>0.85</td>\n",
       "      <td>stocks with the general aim of \\ncapital appre...</td>\n",
       "      <td>What specific types of fixed income instrument...</td>\n",
       "      <td>5</td>\n",
       "      <td>5</td>\n",
       "      <td>5</td>\n",
       "      <td>5</td>\n",
       "      <td>token</td>\n",
       "      <td>['THE INSURANCE ACT, 1938\\nACT NO. 4 OF 19381\\...</td>\n",
       "      <td>39090</td>\n",
       "      <td>('The types of fixed income instruments invest...</td>\n",
       "      <td>meta-llama-3.1-8b-instruct</td>\n",
       "    </tr>\n",
       "    <tr>\n",
       "      <th>3475</th>\n",
       "      <td>3484</td>\n",
       "      <td>3000</td>\n",
       "      <td>handbook</td>\n",
       "      <td>char</td>\n",
       "      <td>0.85</td>\n",
       "      <td>stocks with the general aim of \\ncapital appre...</td>\n",
       "      <td>What specific types of fixed income instrument...</td>\n",
       "      <td>5</td>\n",
       "      <td>5</td>\n",
       "      <td>5</td>\n",
       "      <td>5</td>\n",
       "      <td>recursive</td>\n",
       "      <td>['THE INSURANCE ACT, 1938\\nACT NO. 4 OF 19381\\...</td>\n",
       "      <td>38266</td>\n",
       "      <td>(\"Corporate bonds invest in fixed income instr...</td>\n",
       "      <td>meta-llama-3.1-8b-instruct</td>\n",
       "    </tr>\n",
       "  </tbody>\n",
       "</table>\n",
       "</div>"
      ],
      "text/plain": [
       "     Unnamed: 0  size  document splitter score  \\\n",
       "3471       3480  3000  handbook     char  0.85   \n",
       "3472       3481  3000  handbook     char  0.85   \n",
       "3473       3482  3000  handbook     char  0.85   \n",
       "3474       3483  3000  handbook     char  0.85   \n",
       "3475       3484  3000  handbook     char  0.85   \n",
       "\n",
       "                                                  chunk  \\\n",
       "3471  stocks with the general aim of \\ncapital appre...   \n",
       "3472  stocks with the general aim of \\ncapital appre...   \n",
       "3473  stocks with the general aim of \\ncapital appre...   \n",
       "3474  stocks with the general aim of \\ncapital appre...   \n",
       "3475  stocks with the general aim of \\ncapital appre...   \n",
       "\n",
       "                                               question relevance_rating  \\\n",
       "3471  What specific types of fixed income instrument...                5   \n",
       "3472  What specific types of fixed income instrument...                5   \n",
       "3473  What specific types of fixed income instrument...                5   \n",
       "3474  What specific types of fixed income instrument...                5   \n",
       "3475  What specific types of fixed income instrument...                5   \n",
       "\n",
       "     groundness_rating standalone_rating limit           collection  \\\n",
       "3471                 5                 5     3  optimized-recursive   \n",
       "3472                 5                 5     5             semantic   \n",
       "3473                 5                 5     5                 char   \n",
       "3474                 5                 5     5                token   \n",
       "3475                 5                 5     5            recursive   \n",
       "\n",
       "                                                context ctx_length  \\\n",
       "3471  ['roved securities” means—\\n(i) Government sec...       4152   \n",
       "3472  ['Surrender value is usually expressed as fund...      29460   \n",
       "3473  ['life insurance or any other class or sub-cla...       9804   \n",
       "3474  ['THE INSURANCE ACT, 1938\\nACT NO. 4 OF 19381\\...      39090   \n",
       "3475  ['THE INSURANCE ACT, 1938\\nACT NO. 4 OF 19381\\...      38266   \n",
       "\n",
       "                                                 answer  \\\n",
       "3471  ('The types of fixed income instruments invest...   \n",
       "3472  ('In Unit Linked Policies, the types of fixed ...   \n",
       "3473  ('Based on the context provided, Unit Linked P...   \n",
       "3474  ('The types of fixed income instruments invest...   \n",
       "3475  (\"Corporate bonds invest in fixed income instr...   \n",
       "\n",
       "                           model  \n",
       "3471  meta-llama-3.1-8b-instruct  \n",
       "3472  meta-llama-3.1-8b-instruct  \n",
       "3473  meta-llama-3.1-8b-instruct  \n",
       "3474  meta-llama-3.1-8b-instruct  \n",
       "3475  meta-llama-3.1-8b-instruct  "
      ]
     },
     "execution_count": 22,
     "metadata": {},
     "output_type": "execute_result"
    }
   ],
   "source": [
    "formatted_df.tail()"
   ]
  },
  {
   "cell_type": "code",
   "execution_count": 28,
   "id": "4983210a",
   "metadata": {},
   "outputs": [],
   "source": [
    "formatted_df.drop(columns=['Unnamed: 0'], inplace=True)\n",
    "shifted_df.drop(columns=['Unnamed: 0'], inplace=True)"
   ]
  },
  {
   "cell_type": "code",
   "execution_count": 35,
   "id": "9b865053",
   "metadata": {},
   "outputs": [],
   "source": [
    "def clean_string(answer):\n",
    "    try:\n",
    "        return eval(answer)[0]\n",
    "    except:\n",
    "        return answer"
   ]
  },
  {
   "cell_type": "code",
   "execution_count": 36,
   "id": "90ee8ce4",
   "metadata": {},
   "outputs": [],
   "source": [
    "formatted_df['answer'] = formatted_df['answer'].apply(clean_string)\n",
    "shifted_df['answer'] = shifted_df['answer'].apply(clean_string)"
   ]
  },
  {
   "cell_type": "code",
   "execution_count": 42,
   "id": "02c4feaa",
   "metadata": {},
   "outputs": [
    {
     "data": {
      "text/plain": [
       "((3476, 15), (90, 15))"
      ]
     },
     "execution_count": 42,
     "metadata": {},
     "output_type": "execute_result"
    }
   ],
   "source": [
    "formatted_df.shape, shifted_df.shape"
   ]
  },
  {
   "cell_type": "code",
   "execution_count": 43,
   "id": "5280531e",
   "metadata": {},
   "outputs": [],
   "source": [
    "df = pd.concat([formatted_df, shifted_df], axis=0)"
   ]
  },
  {
   "cell_type": "code",
   "execution_count": 45,
   "id": "3a811db1",
   "metadata": {},
   "outputs": [],
   "source": [
    "df = df[df['answer'].str.len() > 10]"
   ]
  },
  {
   "cell_type": "code",
   "execution_count": 46,
   "id": "d9f5ec82",
   "metadata": {},
   "outputs": [
    {
     "data": {
      "text/plain": [
       "(2975, 15)"
      ]
     },
     "execution_count": 46,
     "metadata": {},
     "output_type": "execute_result"
    }
   ],
   "source": [
    "df.shape"
   ]
  },
  {
   "cell_type": "code",
   "execution_count": 47,
   "id": "12bb4eba",
   "metadata": {},
   "outputs": [
    {
     "data": {
      "text/plain": [
       "model\n",
       "meta-llama-3.1-8b-instruct    1792\n",
       "gemma-3-1b-it                 1183\n",
       "Name: count, dtype: int64"
      ]
     },
     "execution_count": 47,
     "metadata": {},
     "output_type": "execute_result"
    }
   ],
   "source": [
    "df['model'].value_counts()"
   ]
  },
  {
   "cell_type": "code",
   "execution_count": 48,
   "id": "1fdb406a",
   "metadata": {},
   "outputs": [
    {
     "data": {
      "text/plain": [
       "collection\n",
       "char                   394\n",
       "optimized-token        388\n",
       "semantic               376\n",
       "optimized-char         370\n",
       "optimized-semantic     363\n",
       "token                  363\n",
       "optimized-recursive    361\n",
       "recursive              360\n",
       "Name: count, dtype: int64"
      ]
     },
     "execution_count": 48,
     "metadata": {},
     "output_type": "execute_result"
    }
   ],
   "source": [
    "df['collection'].value_counts()"
   ]
  },
  {
   "cell_type": "code",
   "execution_count": 49,
   "id": "61086285",
   "metadata": {},
   "outputs": [],
   "source": [
    "df.to_csv('generations.csv', index=False)"
   ]
  },
  {
   "cell_type": "code",
   "execution_count": 10,
   "id": "a2aa5770",
   "metadata": {},
   "outputs": [
    {
     "name": "stderr",
     "output_type": "stream",
     "text": [
      "<>:1: SyntaxWarning: invalid escape sequence '\\q'\n",
      "<>:1: SyntaxWarning: invalid escape sequence '\\q'\n",
      "C:\\Users\\shour\\AppData\\Local\\Temp\\ipykernel_28916\\1607386637.py:1: SyntaxWarning: invalid escape sequence '\\q'\n",
      "  questions = pd.read_csv('Eval\\question-evals.csv')\n"
     ]
    }
   ],
   "source": [
    "questions = pd.read_csv('Eval\\question-evals.csv')"
   ]
  },
  {
   "cell_type": "code",
   "execution_count": 12,
   "id": "9243a2ea",
   "metadata": {},
   "outputs": [],
   "source": [
    "questions = questions[\n",
    "    (questions['relevance_rating'] == 5) &\n",
    "    (questions['groundness_rating'] == 5) &\n",
    "    (questions['standalone_rating'] == 5)\n",
    "]"
   ]
  },
  {
   "cell_type": "code",
   "execution_count": 13,
   "id": "9b7281b1",
   "metadata": {},
   "outputs": [
    {
     "data": {
      "text/plain": [
       "(116, 10)"
      ]
     },
     "execution_count": 13,
     "metadata": {},
     "output_type": "execute_result"
    }
   ],
   "source": [
    "questions.shape"
   ]
  },
  {
   "cell_type": "code",
   "execution_count": null,
   "id": "d6e912a1",
   "metadata": {},
   "outputs": [],
   "source": []
  }
 ],
 "metadata": {
  "kernelspec": {
   "display_name": "insurance-rag",
   "language": "python",
   "name": "python3"
  },
  "language_info": {
   "codemirror_mode": {
    "name": "ipython",
    "version": 3
   },
   "file_extension": ".py",
   "mimetype": "text/x-python",
   "name": "python",
   "nbconvert_exporter": "python",
   "pygments_lexer": "ipython3",
   "version": "3.12.7"
  }
 },
 "nbformat": 4,
 "nbformat_minor": 5
}

{
 "cells": [
  {
   "cell_type": "code",
   "execution_count": 1,
   "id": "188cc0b2",
   "metadata": {},
   "outputs": [],
   "source": [
    "import pandas as pd\n",
    "\n",
    "df = pd.read_csv('questions.csv')"
   ]
  },
  {
   "cell_type": "code",
   "execution_count": 2,
   "id": "62c9bd1a",
   "metadata": {},
   "outputs": [
    {
     "data": {
      "text/html": [
       "<div>\n",
       "<style scoped>\n",
       "    .dataframe tbody tr th:only-of-type {\n",
       "        vertical-align: middle;\n",
       "    }\n",
       "\n",
       "    .dataframe tbody tr th {\n",
       "        vertical-align: top;\n",
       "    }\n",
       "\n",
       "    .dataframe thead th {\n",
       "        text-align: right;\n",
       "    }\n",
       "</style>\n",
       "<table border=\"1\" class=\"dataframe\">\n",
       "  <thead>\n",
       "    <tr style=\"text-align: right;\">\n",
       "      <th></th>\n",
       "      <th>size</th>\n",
       "      <th>document</th>\n",
       "      <th>splitter</th>\n",
       "      <th>score</th>\n",
       "      <th>chunk</th>\n",
       "      <th>question</th>\n",
       "    </tr>\n",
       "  </thead>\n",
       "  <tbody>\n",
       "    <tr>\n",
       "      <th>0</th>\n",
       "      <td>1000</td>\n",
       "      <td>insurance_act</td>\n",
       "      <td>char</td>\n",
       "      <td>0.85</td>\n",
       "      <td>THE INSURANCE ACT, 1938\\nACT NO. 4 OF 19381\\n2...</td>\n",
       "      <td>What are the key objectives of the Insurance A...</td>\n",
       "    </tr>\n",
       "    <tr>\n",
       "      <th>1</th>\n",
       "      <td>1000</td>\n",
       "      <td>insurance_act</td>\n",
       "      <td>char</td>\n",
       "      <td>0.85</td>\n",
       "      <td>THE INSURANCE ACT, 1938\\nACT NO. 4 OF 19381\\n2...</td>\n",
       "      <td>Define the term 'actuary' and how does it rela...</td>\n",
       "    </tr>\n",
       "    <tr>\n",
       "      <th>2</th>\n",
       "      <td>1000</td>\n",
       "      <td>insurance_act</td>\n",
       "      <td>char</td>\n",
       "      <td>0.85</td>\n",
       "      <td>THE INSURANCE ACT, 1938\\nACT NO. 4 OF 19381\\n2...</td>\n",
       "      <td>How does the definition of 'policy-holder' dif...</td>\n",
       "    </tr>\n",
       "    <tr>\n",
       "      <th>3</th>\n",
       "      <td>1000</td>\n",
       "      <td>insurance_act</td>\n",
       "      <td>char</td>\n",
       "      <td>0.85</td>\n",
       "      <td>some other class of insurance business, contra...</td>\n",
       "      <td>Define 'general insurance business' as outline...</td>\n",
       "    </tr>\n",
       "    <tr>\n",
       "      <th>4</th>\n",
       "      <td>1000</td>\n",
       "      <td>insurance_act</td>\n",
       "      <td>char</td>\n",
       "      <td>0.85</td>\n",
       "      <td>some other class of insurance business, contra...</td>\n",
       "      <td>What are the key requirements for an entity to...</td>\n",
       "    </tr>\n",
       "  </tbody>\n",
       "</table>\n",
       "</div>"
      ],
      "text/plain": [
       "   size       document splitter  score  \\\n",
       "0  1000  insurance_act     char   0.85   \n",
       "1  1000  insurance_act     char   0.85   \n",
       "2  1000  insurance_act     char   0.85   \n",
       "3  1000  insurance_act     char   0.85   \n",
       "4  1000  insurance_act     char   0.85   \n",
       "\n",
       "                                               chunk  \\\n",
       "0  THE INSURANCE ACT, 1938\\nACT NO. 4 OF 19381\\n2...   \n",
       "1  THE INSURANCE ACT, 1938\\nACT NO. 4 OF 19381\\n2...   \n",
       "2  THE INSURANCE ACT, 1938\\nACT NO. 4 OF 19381\\n2...   \n",
       "3  some other class of insurance business, contra...   \n",
       "4  some other class of insurance business, contra...   \n",
       "\n",
       "                                            question  \n",
       "0  What are the key objectives of the Insurance A...  \n",
       "1  Define the term 'actuary' and how does it rela...  \n",
       "2  How does the definition of 'policy-holder' dif...  \n",
       "3  Define 'general insurance business' as outline...  \n",
       "4  What are the key requirements for an entity to...  "
      ]
     },
     "execution_count": 2,
     "metadata": {},
     "output_type": "execute_result"
    }
   ],
   "source": [
    "df.head()"
   ]
  },
  {
   "cell_type": "code",
   "execution_count": null,
   "id": "df344a20",
   "metadata": {},
   "outputs": [],
   "source": []
  }
 ],
 "metadata": {
  "kernelspec": {
   "display_name": "insurance-rag",
   "language": "python",
   "name": "python3"
  },
  "language_info": {
   "codemirror_mode": {
    "name": "ipython",
    "version": 3
   },
   "file_extension": ".py",
   "mimetype": "text/x-python",
   "name": "python",
   "nbconvert_exporter": "python",
   "pygments_lexer": "ipython3",
   "version": "3.12.7"
  }
 },
 "nbformat": 4,
 "nbformat_minor": 5
}

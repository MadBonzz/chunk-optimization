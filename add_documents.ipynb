{
 "cells": [
  {
   "cell_type": "code",
   "execution_count": 9,
   "metadata": {},
   "outputs": [],
   "source": [
    "import matplotlib.pyplot as plt\n",
    "import seaborn as sns\n",
    "import numpy as np\n",
    "import pandas as pd\n",
    "from sklearn.metrics.pairwise import cosine_similarity\n",
    "\n",
    "import pymupdf\n",
    "from time import sleep\n",
    "import re\n",
    "import json\n",
    "import uuid\n",
    "\n",
    "\n",
    "from llama_cpp import Llama\n",
    "from openai import OpenAI\n",
    "from langchain.embeddings.base import Embeddings\n",
    "from langchain_experimental.text_splitter import SemanticChunker\n",
    "from qdrant_client import QdrantClient\n",
    "from qdrant_client.models import Distance, VectorParams, PointStruct\n",
    "\n",
    "from optimization.src.optimizer import ChunkOptimizer\n",
    "from Evaluation.src.prompts import *\n",
    "from Evaluation.src.data_generator import DataGenerator"
   ]
  },
  {
   "cell_type": "code",
   "execution_count": 10,
   "metadata": {},
   "outputs": [],
   "source": [
    "embed_model_path = 'C:/Users/shour/.cache/lm-studio/models/second-state/All-MiniLM-L6-v2-Embedding-GGUF/all-MiniLM-L6-v2-Q4_0.gguf'\n",
    "embed_model = Llama(model_path=embed_model_path, \n",
    "                    embedding=True,\n",
    "                    verbose=False)"
   ]
  },
  {
   "cell_type": "code",
   "execution_count": 11,
   "metadata": {},
   "outputs": [
    {
     "name": "stderr",
     "output_type": "stream",
     "text": [
      "<>:3: SyntaxWarning: invalid escape sequence '\\I'\n",
      "<>:3: SyntaxWarning: invalid escape sequence '\\I'\n",
      "C:\\Users\\shour\\AppData\\Local\\Temp\\ipykernel_21144\\2452234393.py:3: SyntaxWarning: invalid escape sequence '\\I'\n",
      "  insurance_act = 'insurance-information\\Insurance Act,1938 - incorporating all amendments till 20212021-08-12.pdf'\n"
     ]
    }
   ],
   "source": [
    "documents = {}\n",
    "\n",
    "insurance_act = 'insurance-information\\Insurance Act,1938 - incorporating all amendments till 20212021-08-12.pdf'\n",
    "\n",
    "doc = pymupdf.open(insurance_act)\n",
    "\n",
    "complete_text = \"\"\n",
    "for page in doc.pages(12):\n",
    "    text = page.get_text()\n",
    "    text = text[2:]\n",
    "    paras = text.split('\\n \\n \\n1')[:-1]\n",
    "    for para in paras:\n",
    "        complete_text += para\n",
    "\n",
    "text = re.sub(r'\\d\\*{1,3}', '', complete_text)\n",
    "text = re.sub(r'\\n\\d+', '', text)\n",
    "text = re.sub(r'\\(\\d+\\)', '', text)\n",
    "text = text.replace('*', '').replace('\\n \\n', '\\n').replace('  ', ' ').replace('  ', ' ').replace('[', '').replace(']', '').replace(' \\n', '\\n').replace(' .', '.').replace('..', '.')\n",
    "text = text.strip()\n",
    "\n",
    "documents['insurance_act'] = text"
   ]
  },
  {
   "cell_type": "code",
   "execution_count": 12,
   "metadata": {},
   "outputs": [
    {
     "name": "stderr",
     "output_type": "stream",
     "text": [
      "<>:1: SyntaxWarning: invalid escape sequence '\\D'\n",
      "<>:1: SyntaxWarning: invalid escape sequence '\\D'\n",
      "C:\\Users\\shour\\AppData\\Local\\Temp\\ipykernel_21144\\2215603222.py:1: SyntaxWarning: invalid escape sequence '\\D'\n",
      "  policyholder_file = 'insurance-information\\Draft IRDAI(Protection of Policyholders’ Interests and Allied Matters of Insurers) Regulations, 2024.pdf'\n"
     ]
    }
   ],
   "source": [
    "policyholder_file = 'insurance-information\\Draft IRDAI(Protection of Policyholders’ Interests and Allied Matters of Insurers) Regulations, 2024.pdf'\n",
    "\n",
    "doc = pymupdf.open(policyholder_file)\n",
    "\n",
    "complete_text = \"\"\n",
    "for page in doc.pages(2):\n",
    "    text = page.get_text()\n",
    "    complete_text += text\n",
    "complete_text = complete_text[235:]\n",
    "\n",
    "text = re.sub(r'\\d+\\s*\\|\\s*P\\s*a\\s*g\\s*e', '', complete_text)\n",
    "text = re.sub(r'\\(\\d+\\)', '', text)\n",
    "text = re.sub(r'\\n\\d+', '', text)\n",
    "text = text.replace('  ', '').replace('\\n \\n', '\\n').replace('\\n\\n', '\\n').replace('. \\n', '').replace('*','').replace('__', '_')\n",
    "\n",
    "documents['policyholder_file'] = text"
   ]
  },
  {
   "cell_type": "code",
   "execution_count": 13,
   "metadata": {},
   "outputs": [
    {
     "name": "stderr",
     "output_type": "stream",
     "text": [
      "<>:1: SyntaxWarning: invalid escape sequence '\\L'\n",
      "<>:1: SyntaxWarning: invalid escape sequence '\\L'\n",
      "C:\\Users\\shour\\AppData\\Local\\Temp\\ipykernel_21144\\3503652257.py:1: SyntaxWarning: invalid escape sequence '\\L'\n",
      "  handbook_path = 'insurance-information\\Life Insurance Handbook (English).pdf'\n"
     ]
    }
   ],
   "source": [
    "handbook_path = 'insurance-information\\Life Insurance Handbook (English).pdf'\n",
    "\n",
    "doc = pymupdf.open(handbook_path)\n",
    "\n",
    "complete_text = \"\"\n",
    "for page in doc.pages(2):\n",
    "    text = page.get_text()\n",
    "    complete_text += text\n",
    "\n",
    "text = re.sub(r'\\n\\d+', '', complete_text)\n",
    "text = text.replace('  ', '').replace('\\n \\n', '\\n').replace('\\n\\n', '\\n').replace('. \\n', '').replace('•', '')\n",
    "\n",
    "documents['handbook_path'] = text"
   ]
  },
  {
   "cell_type": "code",
   "execution_count": 14,
   "metadata": {},
   "outputs": [],
   "source": [
    "class MyLocalEmbeddings(Embeddings):\n",
    "    def embed_documents(self, texts):\n",
    "        return [np.array(embed_model.create_embedding(text)['data'][0]['embedding']) for text in texts]\n",
    "\n",
    "    def embed_query(self, text):\n",
    "        return np.array(embed_model.create_embedding(text)['data'][0]['embedding'])\n",
    "\n",
    "embeddings = MyLocalEmbeddings()\n",
    "semantic_splitter = SemanticChunker(embeddings)\n",
    "optimizer = ChunkOptimizer(embed_model_path=embed_model_path)"
   ]
  },
  {
   "cell_type": "code",
   "execution_count": 15,
   "metadata": {},
   "outputs": [],
   "source": [
    "def find_scores(split_embeddings):\n",
    "    similarity_scores = []\n",
    "    for i in range(len(split_embeddings.keys())):\n",
    "        if i == len(split_embeddings.keys()) - 1:\n",
    "            score = 0\n",
    "        else:\n",
    "            score = cosine_similarity(split_embeddings[i]['Embedding'], split_embeddings[i+1]['Embedding'])[0][0]\n",
    "        similarity_scores.append(score)\n",
    "        \n",
    "        split_embeddings[i]['Score'] = score\n",
    "    return similarity_scores"
   ]
  },
  {
   "cell_type": "code",
   "execution_count": 16,
   "metadata": {},
   "outputs": [
    {
     "name": "stdout",
     "output_type": "stream",
     "text": [
      "22\n",
      "After 1 iterations, the number of splits are : 92. The highest similarity score is : 0.7347771055203827\n",
      "8\n",
      "After 1 iterations, the number of splits are : 23. The highest similarity score is : 0.7523336281335997\n",
      "9\n",
      "After 1 iterations, the number of splits are : 22. The highest similarity score is : 0.7420542612206414\n"
     ]
    }
   ],
   "source": [
    "doc_splits = {}\n",
    "for doc in documents.keys():\n",
    "    semantic_splits  = semantic_splitter.split_text(documents[doc])\n",
    "    semantic_splits = [s for s in semantic_splits if len(s) > 100]\n",
    "    print(len(semantic_splits))\n",
    "    split_embeddings = {idx : {'Text' : x, 'Embedding' : np.array(embed_model.create_embedding(x)['data'][0]['embedding']).reshape(1, -1)} for idx, x in enumerate(semantic_splits)}\n",
    "    semantic_scores = find_scores(split_embeddings)\n",
    "    pct = np.percentile(semantic_scores, 90)\n",
    "    optimized_chunks = optimizer.optimize_chunks(semantic_splits, 1200, 200, pct)\n",
    "    doc_splits[doc] = optimized_chunks"
   ]
  },
  {
   "cell_type": "code",
   "execution_count": 17,
   "metadata": {},
   "outputs": [
    {
     "data": {
      "text/plain": [
       "dict_keys(['insurance_act', 'policyholder_file', 'handbook_path'])"
      ]
     },
     "execution_count": 17,
     "metadata": {},
     "output_type": "execute_result"
    }
   ],
   "source": [
    "doc_splits.keys()"
   ]
  },
  {
   "cell_type": "code",
   "execution_count": 18,
   "metadata": {},
   "outputs": [
    {
     "name": "stdout",
     "output_type": "stream",
     "text": [
      "Collection not found\n"
     ]
    },
    {
     "data": {
      "text/plain": [
       "True"
      ]
     },
     "execution_count": 18,
     "metadata": {},
     "output_type": "execute_result"
    }
   ],
   "source": [
    "client = QdrantClient(path=\"insurance-reference\")\n",
    "collection_name = \"references\"\n",
    "\n",
    "try:\n",
    "    if client.get_collection(collection_name):\n",
    "            client.delete_collection(collection_name=collection_name)\n",
    "except ValueError:\n",
    "    print(\"Collection not found\")\n",
    "\n",
    "client.create_collection(\n",
    "    collection_name=collection_name,\n",
    "    vectors_config=VectorParams(size=384, distance=Distance.COSINE),\n",
    ")"
   ]
  },
  {
   "cell_type": "code",
   "execution_count": 19,
   "metadata": {},
   "outputs": [
    {
     "data": {
      "text/plain": [
       "dict_keys(['insurance_act', 'policyholder_file', 'handbook_path'])"
      ]
     },
     "execution_count": 19,
     "metadata": {},
     "output_type": "execute_result"
    }
   ],
   "source": [
    "doc_splits.keys()"
   ]
  },
  {
   "cell_type": "code",
   "execution_count": 20,
   "metadata": {},
   "outputs": [
    {
     "name": "stdout",
     "output_type": "stream",
     "text": [
      "dict_keys(['Text', 'Embedding', 'Score'])\n",
      "<class 'numpy.ndarray'>\n",
      "<class 'list'>\n",
      "[-0.08339032530784607, 0.03319903835654259, -0.12843045592308044, -0.048387423157691956, -0.0861189067363739, 0.08272852748632431, 0.1226252093911171, 0.10190168023109436, -0.05110381171107292, 0.1296033412218094, 0.11121117323637009, -0.010384131222963333, 0.034575507044792175, -0.044297073036432266, 0.0406312420964241, -0.018348803743720055, -0.008194297552108765, 0.00021478976123034954, -0.06266988068819046, 0.21246035397052765, 0.14120078086853027, 0.049494821578264236, -0.05115668475627899, -0.0938510000705719, 0.05027088522911072, -0.12999308109283447, -0.015067113563418388, -0.08437658101320267, -0.06898294389247894, 0.014538431540131569, 0.01794782653450966, 0.020928770303726196, 0.020816704258322716, 0.054151929914951324, 0.03513755276799202, -0.04842439293861389, -0.06459749490022659, -0.01624877378344536, 0.03209373727440834, -0.030868005007505417, -0.016592228785157204, 0.09819316864013672, -0.03995596617460251, 0.006101985927671194, 0.017948318272829056, -0.024321526288986206, 0.05624809116125107, -0.002206086181104183, -0.09483040869235992, 0.03627118468284607, -0.0950595885515213, -0.013099098578095436, -0.08929741382598877, 0.1278465837240219, -0.03258269652724266, -0.12039043009281158, -0.06005098670721054, -0.024540290236473083, -0.04326382279396057, 0.06611403077840805, -0.03518294543027878, 0.06566102802753448, 0.04535277932882309, -0.03181728348135948, -0.12175096571445465, 0.04413284361362457, 0.11395972967147827, 0.01026253029704094, 0.015495890751481056, -0.0005145913455635309, -0.07849197834730148, -0.044381044805049896, -0.04125749319791794, 0.009692485444247723, -0.1764502227306366, -0.11869333684444427, -0.03111126273870468, 0.12465046346187592, 0.008841072209179401, -0.2153680920600891, -0.10536278039216995, -0.0058709741570055485, 0.12592726945877075, -0.04578147828578949, 0.02587120234966278, 0.03756476938724518, -0.05732090771198273, -0.052612483501434326, 0.07473354041576385, -0.050639089196920395, 0.02948266826570034, -0.14314430952072144, 0.012558557093143463, -0.026614366099238396, 0.11055688560009003, -0.1594533622264862, 0.04458077624440193, -0.04994677007198334, 0.10644030570983887, 0.09867365658283234, -0.07395046204328537, -0.04790854454040527, -0.07517948746681213, 0.0882461816072464, -0.1640719622373581, -0.0029082500841468573, -0.02364763244986534, -0.10150519013404846, -0.06412743777036667, -0.06723953783512115, -0.09793096780776978, 0.029026847332715988, 0.056183822453022, -0.10023027658462524, -0.0262102410197258, 0.05003052577376366, -0.06828437745571136, -0.024292265996336937, 0.08985258638858795, -0.015566331334412098, 0.05479606240987778, 0.13757988810539246, 0.037328943610191345, -0.09419925510883331, 0.012528296560049057, 0.005052813328802586, 0.06633791327476501, 4.583182678879019e-33, -0.06380637735128403, 0.015468904748558998, -0.04797232523560524, -0.0010563535615801811, 0.03590329363942146, -0.03814736381173134, -0.014851661399006844, 0.02317913994193077, 0.048559561371803284, -0.014636596664786339, -0.021890370175242424, 0.02041717618703842, 0.014358367770910263, -0.11159312725067139, 0.017358653247356415, 0.06005977466702461, -0.014582259580492973, 0.07070576399564743, 0.16072171926498413, 0.05276680737733841, -0.05056831240653992, -0.004796301014721394, 0.08897268772125244, -0.02938213385641575, -0.018409373238682747, 0.021639680489897728, 0.013262450695037842, -0.025956133380532265, -0.06590642780065536, 0.03684072941541672, 0.0963565856218338, -0.01976078376173973, -0.013440299779176712, -0.02183583378791809, 0.057924915105104446, -0.052002377808094025, -0.06104016304016113, -0.006578891072422266, 0.004747395869344473, -0.10432028025388718, -0.0038288640789687634, -0.031509533524513245, 0.05411843955516815, -0.04657573997974396, 0.05733328312635422, 0.03709719702601433, 0.009274148382246494, 0.17637117207050323, 0.17205920815467834, 0.05110524594783783, 0.036596573889255524, -0.09707225859165192, 0.08937735855579376, -0.1393999308347702, -0.04472092539072037, 0.03248171508312225, -0.0956854522228241, 0.060535479336977005, -0.08987993001937866, 0.012896864674985409, -0.005311012268066406, -0.014779104851186275, -0.03626617416739464, -0.038616832345724106, -0.12567687034606934, -0.0063790190033614635, -0.13411694765090942, -0.021495018154382706, 0.13687321543693542, -0.1246885135769844, -0.0969083234667778, -0.018532492220401764, 0.0705661028623581, -0.016230106353759766, -0.012486806139349937, 0.05267791450023651, 0.025047913193702698, -0.027017958462238312, -0.02819504216313362, -0.06179720163345337, -0.1327010691165924, 0.01838122121989727, -0.021269502118229866, -0.04579472914338112, 0.033205434679985046, 0.049935482442379, 0.007382242940366268, 0.002298417966812849, 0.0011002542451024055, -0.09027621150016785, 0.011352142319083214, -0.04404681548476219, -0.09203875064849854, 0.1600993573665619, 0.14024639129638672, -8.692626440697271e-33, -0.06567312031984329, -0.07280708104372025, -0.13505321741104126, 0.03797266632318497, -0.06750878691673279, 0.0044057248160243034, 0.0615980327129364, -0.0988970696926117, -0.03443262726068497, -0.03290405124425888, -0.032563429325819016, 0.0024839439429342747, 0.08554194122552872, 0.0006134094437584281, -0.01853642612695694, -0.02496202476322651, -0.09276483952999115, -0.05617533624172211, -0.004815453663468361, 0.12528684735298157, -0.02425813116133213, 0.07330267131328583, 0.10410322993993759, 0.002956850454211235, 0.01765439100563526, 0.09743344038724899, -0.07699897885322571, 0.07606145739555359, 0.13866937160491943, -0.013337383046746254, 0.014313939958810806, -0.06634245067834854, -0.21392740309238434, 0.004008250776678324, -0.044860102236270905, -0.2228107750415802, 0.1434958577156067, 0.028422018513083458, -0.03335823491215706, -0.07315169274806976, 0.013086160644888878, 0.0660359263420105, 0.1068892553448677, 0.15680980682373047, 0.08306750655174255, -0.009104045107960701, 0.09932862222194672, -0.029710348695516586, -0.032857656478881836, -0.01824505627155304, -0.07622454315423965, -0.027688443660736084, 0.07381899654865265, -0.0450730100274086, -0.0667584091424942, 0.008119933307170868, -0.0211234949529171, -0.006139078177511692, -0.09444592148065567, 0.034004516899585724, 0.07933853566646576, 0.04864377900958061, 0.08217728137969971, 0.20896191895008087, 0.08777277916669846, -0.04824107885360718, -0.067332923412323, 0.026987247169017792, 0.07324632257223129, -0.07090066373348236, 0.03583899140357971, -0.18888819217681885, -0.13516278564929962, -0.06930086016654968, 0.05191005766391754, -0.01065133698284626, 0.08341778814792633, -0.04499412328004837, -0.07665321975946426, 0.029200436547398567, -0.022838521748781204, 0.014021046459674835, -0.1561621129512787, -0.01300271786749363, -0.022462137043476105, -0.08755156397819519, -0.026642469689249992, -0.06145574152469635, 0.11218956112861633, -0.009063392877578735, -0.10058710724115372, 0.08606626838445663, -0.012999956496059895, 0.0006231458391994238, -0.06197565048933029, -1.0132821159913874e-07, 0.057968445122241974, 0.09667949378490448, 0.09224709868431091, -0.04536547139286995, 0.06608685851097107, -0.2676207423210144, -0.15128089487552643, -0.005203181877732277, -0.0047276876866817474, -0.06332945823669434, 0.15317581593990326, 0.10630381107330322, 0.05225183814764023, -0.1294153779745102, -0.05924895405769348, -0.13965195417404175, -0.07666178792715073, 0.07060100883245468, -0.1092650443315506, 0.05981500446796417, 0.007478420622646809, -0.1320871114730835, 0.030312716960906982, -0.024203553795814514, -0.04125228896737099, 0.00017502973787486553, -0.0073547689244151115, -0.02368682250380516, 0.09201295673847198, 0.10405948758125305, -0.019735749810934067, 0.10725077986717224, 0.14460302889347076, -0.00704879080876708, -0.08795309066772461, 0.040523283183574677, 0.2259562909603119, 0.11029136925935745, 0.10409289598464966, 0.04209025204181671, 0.07147052884101868, -0.07388816773891449, 0.09391762316226959, 0.07786881923675537, 0.040023379027843475, -0.03022494725883007, -0.11226904392242432, -0.033819347620010376, 0.22441230714321136, -0.0805252194404602, -0.07545457780361176, 0.04130857437849045, -0.016126038506627083, 0.052736226469278336, -0.0758034735918045, 0.0289425291121006, -0.03011159971356392, 0.028048157691955566, -0.021375663578510284, 0.01796313375234604, 0.09033693373203278, 0.011082714423537254, -0.03381646052002907, 0.02585521712899208]\n"
     ]
    }
   ],
   "source": [
    "for chunk in doc_splits['insurance_act'].values():\n",
    "    print(chunk.keys())\n",
    "    print(type(chunk['Embedding']))\n",
    "    flat_list = chunk['Embedding'].flatten().tolist()\n",
    "    print(type(flat_list))\n",
    "    print(flat_list)\n",
    "    break"
   ]
  },
  {
   "cell_type": "code",
   "execution_count": 21,
   "metadata": {},
   "outputs": [],
   "source": [
    "for key in doc_splits.keys():\n",
    "    points = [\n",
    "    PointStruct(\n",
    "        id = str(uuid.uuid4()),\n",
    "        vector = chunk['Embedding'].flatten().tolist(),\n",
    "        payload = {\n",
    "        \"text\": chunk['Text']\n",
    "        }\n",
    "    )\n",
    "    for chunk in doc_splits[key].values()]\n",
    "\n",
    "    operation_info = client.upsert(\n",
    "        collection_name='references',\n",
    "        wait=True,\n",
    "        points=points\n",
    "    )"
   ]
  },
  {
   "cell_type": "code",
   "execution_count": null,
   "metadata": {},
   "outputs": [],
   "source": []
  }
 ],
 "metadata": {
  "kernelspec": {
   "display_name": "insurance-rag",
   "language": "python",
   "name": "python3"
  },
  "language_info": {
   "codemirror_mode": {
    "name": "ipython",
    "version": 3
   },
   "file_extension": ".py",
   "mimetype": "text/x-python",
   "name": "python",
   "nbconvert_exporter": "python",
   "pygments_lexer": "ipython3",
   "version": "3.12.7"
  }
 },
 "nbformat": 4,
 "nbformat_minor": 2
}
